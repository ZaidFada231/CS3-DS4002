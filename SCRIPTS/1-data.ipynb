import pandas as pd

dataframes = []

# Loop through the range of years 1998-2023 and select only rows that contain tornadoes
for year in range(1999, 2024):
    df = pd.read_csv(f'../DATA/{year}.csv')
    df = df[df['EVENT_TYPE'] == 'Tornado']
    dataframes.append(df)

combined_df = pd.concat(dataframes, ignore_index=True)

combined_df.to_csv('../DATA/combined_data.csv', index=False)

combined_df.head()

