{
 "cells": [
  {
   "cell_type": "code",
   "execution_count": null,
   "metadata": {},
   "outputs": [
    {
     "ename": "",
     "evalue": "",
     "output_type": "error",
     "traceback": [
      "\u001b[1;31mRunning cells with 'base (Python 3.11.4)' requires the ipykernel package.\n",
      "\u001b[1;31mRun the following command to install 'ipykernel' into the Python environment. \n",
      "\u001b[1;31mCommand: 'conda install -n base ipykernel --update-deps --force-reinstall'"
     ]
    }
   ],
   "source": [
    "import pandas as pd\n",
    "import matplotlib.pyplot as plt\n",
    "\n",
    "combined_df = pd.read_csv('..\\\\DATA\\\\combined_data.csv')\n",
    "# Convert the BEGIN_YEARMONTH column to a datetime format for easier plotting\n",
    "combined_df['BEGIN_YEARMONTH'] = pd.to_datetime(combined_df['BEGIN_YEARMONTH'].astype(str), format='%Y%m')\n",
    "filtered_df = combined_df\n",
    "\n",
    "# Define a function to plot with years and their months\n",
    "def plot_with_specific_years(x_values, y_values, title, xlabel, ylabel, color='blue'):\n",
    "    plt.figure(figsize=(14, 6))  # Increase figure size to give more space\n",
    "    plt.plot(x_values, y_values, marker='o', color=color)\n",
    "    plt.title(title)\n",
    "    plt.xlabel(xlabel)\n",
    "    plt.ylabel(ylabel)\n",
    "\n",
    "    # Set x-ticks for every third month\n",
    "    ax = plt.gca()\n",
    "    ax.set_xticks(x_values[::6])  # Show every third month to reduce clutter\n",
    "    ax.set_xticklabels(x_values[::6].strftime('%Y-%m'), rotation=45)\n",
    "    \n",
    "    plt.grid(True)\n",
    "    plt.tight_layout()\n",
    "    plt.show()\n",
    "\n",
    "# Plot 1: Tornado Frequency over Time (1999-2023)\n",
    "tornado_frequency = filtered_df.groupby(filtered_df['BEGIN_YEARMONTH']).size()\n",
    "plot_with_specific_years(tornado_frequency.index, tornado_frequency.values,\n",
    "                         title='Tornado Frequency Over Time (1999-2023)',\n",
    "                         xlabel='Year-Month', ylabel='Number of Tornadoes')\n",
    "\n",
    "# Plot 2: Tornado Damage over Time (1999-2023)\n",
    "filtered_df['DAMAGE_PROPERTY'] = pd.to_numeric(filtered_df['DAMAGE_PROPERTY'].str.replace('K', '000').str.replace('M', '000000'), errors='coerce')\n",
    "tornado_damage = filtered_df.groupby(filtered_df['BEGIN_YEARMONTH'])['DAMAGE_PROPERTY'].sum()\n",
    "plot_with_specific_years(tornado_damage.index, tornado_damage.values,\n",
    "                         title='Tornado Damage Over Time (1999-2023)',\n",
    "                         xlabel='Year-Month', ylabel='Damage in USD', color='orange')\n",
    "\n",
    "# Plot 3: Tornado Deaths over Time (for 1999-2023)\n",
    "filtered_df['TOTAL_DEATHS'] = filtered_df['DEATHS_DIRECT'] + filtered_df['DEATHS_INDIRECT']\n",
    "tornado_deaths = filtered_df.groupby(filtered_df['BEGIN_YEARMONTH'])['TOTAL_DEATHS'].sum()\n",
    "plot_with_specific_years(tornado_deaths.index, tornado_deaths.values,\n",
    "                         title='Tornado Deaths Over Time (1999-2023)',\n",
    "                         xlabel='Year-Month', ylabel='Number of Deaths', color='red')\n",
    "\n"
   ]
  }
 ],
 "metadata": {
  "kernelspec": {
   "display_name": "base",
   "language": "python",
   "name": "python3"
  },
  "language_info": {
   "codemirror_mode": {
    "name": "ipython",
    "version": 3
   },
   "file_extension": ".py",
   "mimetype": "text/x-python",
   "name": "python",
   "nbconvert_exporter": "python",
   "pygments_lexer": "ipython3",
   "version": "3.11.4"
  }
 },
 "nbformat": 4,
 "nbformat_minor": 2
}
